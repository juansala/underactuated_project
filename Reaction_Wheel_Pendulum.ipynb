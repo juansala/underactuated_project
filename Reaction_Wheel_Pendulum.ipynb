{
  "nbformat": 4,
  "nbformat_minor": 0,
  "metadata": {
    "colab": {
      "name": "Reaction Wheel Pendulum.ipynb",
      "provenance": [],
      "collapsed_sections": [],
      "toc_visible": true,
      "include_colab_link": true
    },
    "kernelspec": {
      "display_name": "Python 3.6.9 64-bit",
      "language": "python",
      "name": "python3"
    },
    "language_info": {
      "codemirror_mode": {
        "name": "ipython",
        "version": 3
      },
      "file_extension": ".py",
      "mimetype": "text/x-python",
      "name": "python",
      "nbconvert_exporter": "python",
      "pygments_lexer": "ipython3",
      "version": "3.6.9"
    }
  },
  "cells": [
    {
      "cell_type": "markdown",
      "metadata": {
        "id": "view-in-github",
        "colab_type": "text"
      },
      "source": [
        "<a href=\"https://colab.research.google.com/github/juansala/underactuated_project/blob/main/Reaction_Wheel_Pendulum.ipynb\" target=\"_parent\"><img src=\"https://colab.research.google.com/assets/colab-badge.svg\" alt=\"Open In Colab\"/></a>"
      ]
    },
    {
      "cell_type": "markdown",
      "metadata": {
        "id": "TKvYiJgnYExi"
      },
      "source": [
        "Welcome!  If you are new to Google Colab/Jupyter notebooks, you might take a look at [this notebook](https://colab.research.google.com/notebooks/basic_features_overview.ipynb) first.\n",
        "\n",
        "**I recommend you run the first code cell of this notebook immediately, to start provisioning drake on the cloud machine, then you can leave this window open as you [read the textbook](http://underactuated.csail.mit.edu/intro.html).**\n",
        "\n",
        "# Notebook Setup\n",
        "\n",
        "The following cell will:\n",
        "- on Colab (only), install Drake to `/opt/drake`, install Drake's prerequisites via `apt`, and add pydrake to `sys.path`.  This will take approximately two minutes on the first time it runs (to provision the machine), but should only need to reinstall once every 12 hours.  If you navigate between notebooks using Colab's \"File->Open\" menu, then you can avoid provisioning a separate machine for each notebook.\n",
        "- import packages used throughout the notebook.\n",
        "\n",
        "You will need to rerun this cell if you restart the kernel, but it should be fast (even on Colab) because the machine will already have drake installed."
      ]
    },
    {
      "cell_type": "code",
      "metadata": {
        "id": "A4QOaw_zYLfI",
        "colab": {
          "base_uri": "https://localhost:8080/"
        },
        "outputId": "9cd2b407-2434-4ae2-d304-8d61e87622c5"
      },
      "source": [
        "import importlib\n",
        "import sys\n",
        "from urllib.request import urlretrieve\n",
        "\n",
        "# Install drake (and underactuated).\n",
        "if 'google.colab' in sys.modules and importlib.util.find_spec('underactuated') is None:\n",
        "    urlretrieve(f\"http://underactuated.csail.mit.edu/scripts/setup/setup_underactuated_colab.py\",\n",
        "                \"setup_underactuated_colab.py\")\n",
        "    from setup_underactuated_colab import setup_underactuated\n",
        "    setup_underactuated(underactuated_sha='ffe2b28ed89637889c04405e5d7d2d98be3df5b6', drake_version='0.25.0', drake_build='releases')\n",
        "\n",
        "server_args = []\n",
        "if 'google.colab' in sys.modules:\n",
        "  server_args = ['--ngrok_http_tunnel']\n",
        "# Start two meshcat server instances to use for the remainder of this notebook.\n",
        "from meshcat.servers.zmqserver import start_zmq_server_as_subprocess\n",
        "proc_planar, zmq_url_planar, web_url_planar = start_zmq_server_as_subprocess(server_args=server_args)\n",
        "proc, zmq_url, web_url = start_zmq_server_as_subprocess(server_args=server_args)\n",
        "\n",
        "\n",
        "# Imports.\n",
        "import matplotlib.pyplot as plt\n",
        "import numpy as np\n",
        "import pydrake.all\n",
        "\n",
        "from pydrake.all import (Jacobian, MathematicalProgram, Solve, Polynomial, AddMultibodyPlantSceneGraph, PlanarSceneGraphVisualizer, Parser, LinearQuadraticRegulator, Simulator, VectorSystem, Saturation, SignalLogger, wrap_to, RealContinuousLyapunovEquation, Variable, Variables)\n",
        "from pydrake.examples.pendulum import PendulumGeometry, PendulumPlant\n",
        "\n",
        "import underactuated\n",
        "from underactuated.jupyter import AdvanceToAndVisualize, SetupMatplotlibBackend\n",
        "from underactuated.jupyter import running_as_notebook"
      ],
      "execution_count": 2,
      "outputs": [
        {
          "output_type": "stream",
          "text": [
            "Cloning into '/opt/underactuated'...\n",
            "\n",
            "HEAD is now at ffe2b28 update shas\n",
            "\n",
            "\n",
            "WARNING: apt does not have a stable CLI interface. Use with caution in scripts.\n",
            "\n",
            "\n"
          ],
          "name": "stdout"
        }
      ]
    },
    {
      "cell_type": "code",
      "metadata": {
        "id": "QpHeb47ryrhX"
      },
      "source": [
        "# For some mysterious reason, this needs to be run in a second cell for the change to persist.\n",
        "plt_is_interactive = SetupMatplotlibBackend(['notebook']) # Use 'inline' to force non-interactive."
      ],
      "execution_count": 3,
      "outputs": []
    },
    {
      "cell_type": "markdown",
      "metadata": {
        "id": "C1sdq2R88C16"
      },
      "source": [
        "# Dynamics of the Reaction Wheel Pendulum\n",
        "\n",
        "Below are the dynamics parameters of the reaction wheel pendulum, followed by the corresponding URDF string.\n"
      ]
    },
    {
      "cell_type": "code",
      "metadata": {
        "id": "wZmvB8qUzCEH"
      },
      "source": [
        "m = 2 # total mass of wheel and link \n",
        "m_r = 1 # mass of the wheel\n",
        "m_L = 1 # mass of the link \n",
        "I_r = 0.2 # MOI of the reaction wheel about its COM\n",
        "I_L = 0.1 # MOI of link about its COM\n",
        "l_r = 1 # distance from pivot to wheel COM\n",
        "l_L = 0.5 # distance from pivot to link COM\n",
        "I_total = I_r + m_r*l_r**2 + I_L + m_L*l_L**2 # total MOI of the reaction wheel pendulum about the pivot\n",
        "m_bar = m_r*l_r + m_L*l_L\n",
        "\n",
        "l = 1 # distance from the pivot to the COM\n",
        "g = 9.81 # gravitational constant\n",
        "b_r = 0.1 # reaction wheel damping factor, NOT USED\n",
        "b_L = 0.1 # link damping factor, NOT USED\n",
        "\n",
        "u_max = 10 # maximum allowed input torque"
      ],
      "execution_count": 5,
      "outputs": []
    },
    {
      "cell_type": "code",
      "metadata": {
        "id": "zzMBoD59zMgS"
      },
      "source": [
        "rxpend_urdf = \"\"\"\n",
        "\n",
        "<?xml version=\"1.0\"?>\n",
        "\n",
        "<robot xmlns=\"http://drake.mit.edu\"\n",
        " xmlns:xsi=\"http://www.w3.org/2001/XMLSchema-instance\"\n",
        " xsi:schemaLocation=\"http://drake.mit.edu ../../doc/drakeURDF.xsd\" name=\"Reaction Wheel Pendulum\">\n",
        "  <material name=\"black\">\n",
        "    <color rgba=\"0 0 0 1\" />\n",
        "  </material>\n",
        "  <material name=\"MITred\">\n",
        "    <color rgba=\".6 .2 .2 1\" />\n",
        "  </material>\n",
        "\n",
        "  <link name=\"base\">\n",
        "    <inertial>\n",
        "      <origin xyz=\"0 0 0\" />\n",
        "      <mass value=\"0.01\" />\n",
        "      <inertia ixx=\"0\" ixy=\"0\" ixz=\"0\" iyy=\"0\" iyz=\"0\" izz=\"0\" />\n",
        "    </inertial>\n",
        "  </link>\n",
        "  <joint name=\"base_weld\" type=\"fixed\">\n",
        "    <parent link=\"world\" />\n",
        "    <child link=\"base\" />\n",
        "  </joint>\n",
        "\n",
        "  <link name=\"upper_arm\">\n",
        "    <inertial> \n",
        "      <origin xyz=\"0 0 -1\" rpy=\"0 0 0\" />\n",
        "      <mass value=\"1\" />\n",
        "      <inertia ixx=\"0.1\" ixy=\"0\" ixz=\"0\" iyy=\"0.1\" iyz=\"0\" izz=\"0\"/> \n",
        "    </inertial>\n",
        "    <visual>\n",
        "      <origin xyz=\"0 0 -.5\" rpy=\"0 0 0\" />\n",
        "      <geometry>\n",
        "         <cylinder length=\"1\" radius=\".01\" />\n",
        "      </geometry>\n",
        "      <material name=\"black\" />\n",
        "    </visual> \n",
        "  </link>\n",
        "  <joint name=\"shoulder\" type=\"continuous\">\n",
        "    <parent link=\"base\"/>\n",
        "    <child link=\"upper_arm\" />\n",
        "    <axis xyz=\"0 1 0\" />\n",
        "    <dynamics damping=\"0.0\" />\n",
        "  </joint>\n",
        "\n",
        "  <link name=\"wheel\">\n",
        "    <inertial> \n",
        "      <origin xyz=\"0 0 0\" rpy=\"0 0 0\" />\n",
        "      <mass value=\"1\" />\n",
        "      <inertia ixx=\"0.2\" ixy=\"0\" ixz=\"0\" iyy=\"0.2\" iyz=\"0\" izz=\"0\"/> \n",
        "    </inertial>\n",
        "    <visual>\n",
        "      <origin xyz=\"0 0 0\" rpy=\"0 0 0\" />\n",
        "      <geometry>\n",
        "         <sphere radius=\".5\" />\n",
        "      </geometry>\n",
        "      <material name=\"MITred\" />\n",
        "    </visual> \n",
        "    <visual>\n",
        "      <origin xyz=\"0 0 -0.25\"/>\n",
        "      <geometry>\n",
        "        <sphere radius=\".05\"/>\n",
        "      </geometry>\n",
        "      <material name=\"black\" />\n",
        "    </visual>\n",
        "\n",
        "  </link>\n",
        "  <joint name=\"elbow\" type=\"continuous\">\n",
        "    <parent link=\"upper_arm\"/>\n",
        "    <origin xyz=\"0 0 -1\" />\n",
        "    <child link=\"wheel\" />\n",
        "    <axis xyz=\"0 1 0\" />\n",
        "    <dynamics damping=\"0.0\" />\n",
        "  </joint>\n",
        "  <transmission type=\"SimpleTransmission\" name=\"elbow_trans\">\n",
        "    <actuator name=\"elbow\" />\n",
        "    <joint name=\"elbow\" />\n",
        "    <mechanicalReduction>1</mechanicalReduction>\n",
        "  </transmission>\n",
        "\n",
        "</robot> \"\"\""
      ],
      "execution_count": 6,
      "outputs": []
    },
    {
      "cell_type": "code",
      "metadata": {
        "colab": {
          "base_uri": "https://localhost:8080/",
          "height": 374
        },
        "id": "8wj7ZlyEw_AB",
        "outputId": "b2a4d264-7f5d-4a89-e40c-5a56c95ea1b6"
      },
      "source": [
        "# Set up a block diagram with the robot (dynamics) and a visualization block.\n",
        "builder = pydrake.systems.framework.DiagramBuilder()\n",
        "plant, scene_graph = AddMultibodyPlantSceneGraph(builder, time_step=0.0)\n",
        "\n",
        "# Load the double pendulum from Universal Robot Description Format\n",
        "parser = pydrake.multibody.parsing.Parser(plant, scene_graph)\n",
        "# parser.AddModelFromFile(underactuated.FindResource(\"models/double_pendulum.urdf\"))\n",
        "Parser(plant).AddModelFromString(rxpend_urdf, \"urdf\")\n",
        "plant.Finalize()\n",
        "\n",
        "builder.ExportInput(plant.get_actuation_input_port())\n",
        "visualizer = builder.AddSystem(PlanarSceneGraphVisualizer(scene_graph,\n",
        "                                                          xlim=[-2.8, 2.8],\n",
        "                                                          ylim=[-2.8, 2.8],\n",
        "                                                          show=plt_is_interactive))\n",
        "builder.Connect(scene_graph.get_pose_bundle_output_port(),\n",
        "                visualizer.get_input_port(0))\n",
        "\n",
        "# The logger needs to be told to expect a 4-element input\n",
        "# (the 4-element double pendulum state, in this case).\n",
        "logger = builder.AddSystem(pydrake.systems.primitives.SignalLogger(4))\n",
        "logger.DeclarePeriodicPublish(0.033333, 0.0)\n",
        "builder.Connect(plant.get_state_output_port(), logger.get_input_port(0))\n",
        "\n",
        "diagram = builder.Build()\n",
        "\n",
        "# Set up a simulator to run this diagram\n",
        "simulator = pydrake.systems.analysis.Simulator(diagram)\n",
        "\n",
        "# Set the initial conditions\n",
        "context = simulator.get_mutable_context()\n",
        "context.SetContinuousState([0., 0., 0., 0.])  # (theta1, theta2, theta1dot, theta2dot)\n",
        "diagram.get_input_port(0).FixValue(context, [1.])   # Zero input torques\n",
        "\n",
        "# Simulate and animate\n",
        "AdvanceToAndVisualize(simulator, visualizer, 10.0)\n"
      ],
      "execution_count": null,
      "outputs": [
        {
          "output_type": "stream",
          "text": [
            "simulating...  done.\n",
            "generating animation...\n"
          ],
          "name": "stdout"
        },
        {
          "output_type": "error",
          "ename": "KeyboardInterrupt",
          "evalue": "ignored",
          "traceback": [
            "\u001b[0;31m---------------------------------------------------------------------------\u001b[0m",
            "\u001b[0;31mKeyboardInterrupt\u001b[0m                         Traceback (most recent call last)",
            "\u001b[0;32m<ipython-input-7-f218f5f6d624>\u001b[0m in \u001b[0;36m<module>\u001b[0;34m()\u001b[0m\n\u001b[1;32m     34\u001b[0m \u001b[0;34m\u001b[0m\u001b[0m\n\u001b[1;32m     35\u001b[0m \u001b[0;31m# Simulate and animate\u001b[0m\u001b[0;34m\u001b[0m\u001b[0;34m\u001b[0m\u001b[0;34m\u001b[0m\u001b[0m\n\u001b[0;32m---> 36\u001b[0;31m \u001b[0mAdvanceToAndVisualize\u001b[0m\u001b[0;34m(\u001b[0m\u001b[0msimulator\u001b[0m\u001b[0;34m,\u001b[0m \u001b[0mvisualizer\u001b[0m\u001b[0;34m,\u001b[0m \u001b[0;36m10.0\u001b[0m\u001b[0;34m)\u001b[0m\u001b[0;34m\u001b[0m\u001b[0;34m\u001b[0m\u001b[0m\n\u001b[0m",
            "\u001b[0;32m/opt/underactuated/underactuated/jupyter.py\u001b[0m in \u001b[0;36mAdvanceToAndVisualize\u001b[0;34m(simulator, visualizer, time, time_if_running_headless)\u001b[0m\n\u001b[1;32m     48\u001b[0m         \u001b[0mprint\u001b[0m\u001b[0;34m(\u001b[0m\u001b[0;34m\"done.\\ngenerating animation...\"\u001b[0m\u001b[0;34m)\u001b[0m\u001b[0;34m\u001b[0m\u001b[0;34m\u001b[0m\u001b[0m\n\u001b[1;32m     49\u001b[0m         \u001b[0mani\u001b[0m \u001b[0;34m=\u001b[0m \u001b[0mvisualizer\u001b[0m\u001b[0;34m.\u001b[0m\u001b[0mget_recording_as_animation\u001b[0m\u001b[0;34m(\u001b[0m\u001b[0;34m)\u001b[0m\u001b[0;34m\u001b[0m\u001b[0;34m\u001b[0m\u001b[0m\n\u001b[0;32m---> 50\u001b[0;31m         \u001b[0mdisplay\u001b[0m\u001b[0;34m(\u001b[0m\u001b[0mHTML\u001b[0m\u001b[0;34m(\u001b[0m\u001b[0mani\u001b[0m\u001b[0;34m.\u001b[0m\u001b[0mto_jshtml\u001b[0m\u001b[0;34m(\u001b[0m\u001b[0;34m)\u001b[0m\u001b[0;34m)\u001b[0m\u001b[0;34m)\u001b[0m\u001b[0;34m\u001b[0m\u001b[0;34m\u001b[0m\u001b[0m\n\u001b[0m\u001b[1;32m     51\u001b[0m \u001b[0;34m\u001b[0m\u001b[0m\n\u001b[1;32m     52\u001b[0m \u001b[0;34m\u001b[0m\u001b[0m\n",
            "\u001b[0;32m/usr/local/lib/python3.7/dist-packages/matplotlib/animation.py\u001b[0m in \u001b[0;36mto_jshtml\u001b[0;34m(self, fps, embed_frames, default_mode)\u001b[0m\n\u001b[1;32m   1380\u001b[0m                                     \u001b[0membed_frames\u001b[0m\u001b[0;34m=\u001b[0m\u001b[0membed_frames\u001b[0m\u001b[0;34m,\u001b[0m\u001b[0;34m\u001b[0m\u001b[0;34m\u001b[0m\u001b[0m\n\u001b[1;32m   1381\u001b[0m                                     default_mode=default_mode)\n\u001b[0;32m-> 1382\u001b[0;31m                 \u001b[0mself\u001b[0m\u001b[0;34m.\u001b[0m\u001b[0msave\u001b[0m\u001b[0;34m(\u001b[0m\u001b[0mstr\u001b[0m\u001b[0;34m(\u001b[0m\u001b[0mpath\u001b[0m\u001b[0;34m)\u001b[0m\u001b[0;34m,\u001b[0m \u001b[0mwriter\u001b[0m\u001b[0;34m=\u001b[0m\u001b[0mwriter\u001b[0m\u001b[0;34m)\u001b[0m\u001b[0;34m\u001b[0m\u001b[0;34m\u001b[0m\u001b[0m\n\u001b[0m\u001b[1;32m   1383\u001b[0m                 \u001b[0mself\u001b[0m\u001b[0;34m.\u001b[0m\u001b[0m_html_representation\u001b[0m \u001b[0;34m=\u001b[0m \u001b[0mpath\u001b[0m\u001b[0;34m.\u001b[0m\u001b[0mread_text\u001b[0m\u001b[0;34m(\u001b[0m\u001b[0;34m)\u001b[0m\u001b[0;34m\u001b[0m\u001b[0;34m\u001b[0m\u001b[0m\n\u001b[1;32m   1384\u001b[0m \u001b[0;34m\u001b[0m\u001b[0m\n",
            "\u001b[0;32m/usr/local/lib/python3.7/dist-packages/matplotlib/animation.py\u001b[0m in \u001b[0;36msave\u001b[0;34m(self, filename, writer, fps, dpi, codec, bitrate, extra_args, metadata, extra_anim, savefig_kwargs, progress_callback)\u001b[0m\n\u001b[1;32m   1150\u001b[0m                             \u001b[0mprogress_callback\u001b[0m\u001b[0;34m(\u001b[0m\u001b[0mframe_number\u001b[0m\u001b[0;34m,\u001b[0m \u001b[0mtotal_frames\u001b[0m\u001b[0;34m)\u001b[0m\u001b[0;34m\u001b[0m\u001b[0;34m\u001b[0m\u001b[0m\n\u001b[1;32m   1151\u001b[0m                             \u001b[0mframe_number\u001b[0m \u001b[0;34m+=\u001b[0m \u001b[0;36m1\u001b[0m\u001b[0;34m\u001b[0m\u001b[0;34m\u001b[0m\u001b[0m\n\u001b[0;32m-> 1152\u001b[0;31m                     \u001b[0mwriter\u001b[0m\u001b[0;34m.\u001b[0m\u001b[0mgrab_frame\u001b[0m\u001b[0;34m(\u001b[0m\u001b[0;34m**\u001b[0m\u001b[0msavefig_kwargs\u001b[0m\u001b[0;34m)\u001b[0m\u001b[0;34m\u001b[0m\u001b[0;34m\u001b[0m\u001b[0m\n\u001b[0m\u001b[1;32m   1153\u001b[0m \u001b[0;34m\u001b[0m\u001b[0m\n\u001b[1;32m   1154\u001b[0m         \u001b[0;31m# Reconnect signal for first draw if necessary\u001b[0m\u001b[0;34m\u001b[0m\u001b[0;34m\u001b[0m\u001b[0;34m\u001b[0m\u001b[0m\n",
            "\u001b[0;32m/usr/local/lib/python3.7/dist-packages/matplotlib/animation.py\u001b[0m in \u001b[0;36mgrab_frame\u001b[0;34m(self, **savefig_kwargs)\u001b[0m\n\u001b[1;32m    842\u001b[0m             \u001b[0mf\u001b[0m \u001b[0;34m=\u001b[0m \u001b[0mBytesIO\u001b[0m\u001b[0;34m(\u001b[0m\u001b[0;34m)\u001b[0m\u001b[0;34m\u001b[0m\u001b[0;34m\u001b[0m\u001b[0m\n\u001b[1;32m    843\u001b[0m             self.fig.savefig(f, format=self.frame_format,\n\u001b[0;32m--> 844\u001b[0;31m                              dpi=self.dpi, **savefig_kwargs)\n\u001b[0m\u001b[1;32m    845\u001b[0m             \u001b[0mimgdata64\u001b[0m \u001b[0;34m=\u001b[0m \u001b[0mbase64\u001b[0m\u001b[0;34m.\u001b[0m\u001b[0mencodebytes\u001b[0m\u001b[0;34m(\u001b[0m\u001b[0mf\u001b[0m\u001b[0;34m.\u001b[0m\u001b[0mgetvalue\u001b[0m\u001b[0;34m(\u001b[0m\u001b[0;34m)\u001b[0m\u001b[0;34m)\u001b[0m\u001b[0;34m.\u001b[0m\u001b[0mdecode\u001b[0m\u001b[0;34m(\u001b[0m\u001b[0;34m'ascii'\u001b[0m\u001b[0;34m)\u001b[0m\u001b[0;34m\u001b[0m\u001b[0;34m\u001b[0m\u001b[0m\n\u001b[1;32m    846\u001b[0m             \u001b[0mself\u001b[0m\u001b[0;34m.\u001b[0m\u001b[0m_total_bytes\u001b[0m \u001b[0;34m+=\u001b[0m \u001b[0mlen\u001b[0m\u001b[0;34m(\u001b[0m\u001b[0mimgdata64\u001b[0m\u001b[0;34m)\u001b[0m\u001b[0;34m\u001b[0m\u001b[0;34m\u001b[0m\u001b[0m\n",
            "\u001b[0;32m/usr/local/lib/python3.7/dist-packages/matplotlib/figure.py\u001b[0m in \u001b[0;36msavefig\u001b[0;34m(self, fname, transparent, **kwargs)\u001b[0m\n\u001b[1;32m   2201\u001b[0m             \u001b[0mself\u001b[0m\u001b[0;34m.\u001b[0m\u001b[0mpatch\u001b[0m\u001b[0;34m.\u001b[0m\u001b[0mset_visible\u001b[0m\u001b[0;34m(\u001b[0m\u001b[0mframeon\u001b[0m\u001b[0;34m)\u001b[0m\u001b[0;34m\u001b[0m\u001b[0;34m\u001b[0m\u001b[0m\n\u001b[1;32m   2202\u001b[0m \u001b[0;34m\u001b[0m\u001b[0m\n\u001b[0;32m-> 2203\u001b[0;31m         \u001b[0mself\u001b[0m\u001b[0;34m.\u001b[0m\u001b[0mcanvas\u001b[0m\u001b[0;34m.\u001b[0m\u001b[0mprint_figure\u001b[0m\u001b[0;34m(\u001b[0m\u001b[0mfname\u001b[0m\u001b[0;34m,\u001b[0m \u001b[0;34m**\u001b[0m\u001b[0mkwargs\u001b[0m\u001b[0;34m)\u001b[0m\u001b[0;34m\u001b[0m\u001b[0;34m\u001b[0m\u001b[0m\n\u001b[0m\u001b[1;32m   2204\u001b[0m \u001b[0;34m\u001b[0m\u001b[0m\n\u001b[1;32m   2205\u001b[0m         \u001b[0;32mif\u001b[0m \u001b[0mframeon\u001b[0m\u001b[0;34m:\u001b[0m\u001b[0;34m\u001b[0m\u001b[0;34m\u001b[0m\u001b[0m\n",
            "\u001b[0;32m/usr/local/lib/python3.7/dist-packages/matplotlib/backend_bases.py\u001b[0m in \u001b[0;36mprint_figure\u001b[0;34m(self, filename, dpi, facecolor, edgecolor, orientation, format, bbox_inches, **kwargs)\u001b[0m\n\u001b[1;32m   2124\u001b[0m                     \u001b[0morientation\u001b[0m\u001b[0;34m=\u001b[0m\u001b[0morientation\u001b[0m\u001b[0;34m,\u001b[0m\u001b[0;34m\u001b[0m\u001b[0;34m\u001b[0m\u001b[0m\n\u001b[1;32m   2125\u001b[0m                     \u001b[0mbbox_inches_restore\u001b[0m\u001b[0;34m=\u001b[0m\u001b[0m_bbox_inches_restore\u001b[0m\u001b[0;34m,\u001b[0m\u001b[0;34m\u001b[0m\u001b[0;34m\u001b[0m\u001b[0m\n\u001b[0;32m-> 2126\u001b[0;31m                     **kwargs)\n\u001b[0m\u001b[1;32m   2127\u001b[0m             \u001b[0;32mfinally\u001b[0m\u001b[0;34m:\u001b[0m\u001b[0;34m\u001b[0m\u001b[0;34m\u001b[0m\u001b[0m\n\u001b[1;32m   2128\u001b[0m                 \u001b[0;32mif\u001b[0m \u001b[0mbbox_inches\u001b[0m \u001b[0;32mand\u001b[0m \u001b[0mrestore_bbox\u001b[0m\u001b[0;34m:\u001b[0m\u001b[0;34m\u001b[0m\u001b[0;34m\u001b[0m\u001b[0m\n",
            "\u001b[0;32m/usr/local/lib/python3.7/dist-packages/matplotlib/backends/backend_agg.py\u001b[0m in \u001b[0;36mprint_png\u001b[0;34m(self, filename_or_obj, metadata, pil_kwargs, *args, **kwargs)\u001b[0m\n\u001b[1;32m    535\u001b[0m             \u001b[0;32mwith\u001b[0m \u001b[0mcbook\u001b[0m\u001b[0;34m.\u001b[0m\u001b[0mopen_file_cm\u001b[0m\u001b[0;34m(\u001b[0m\u001b[0mfilename_or_obj\u001b[0m\u001b[0;34m,\u001b[0m \u001b[0;34m\"wb\"\u001b[0m\u001b[0;34m)\u001b[0m \u001b[0;32mas\u001b[0m \u001b[0mfh\u001b[0m\u001b[0;34m:\u001b[0m\u001b[0;34m\u001b[0m\u001b[0;34m\u001b[0m\u001b[0m\n\u001b[1;32m    536\u001b[0m                 _png.write_png(renderer._renderer, fh, self.figure.dpi,\n\u001b[0;32m--> 537\u001b[0;31m                                metadata={**default_metadata, **metadata})\n\u001b[0m\u001b[1;32m    538\u001b[0m \u001b[0;34m\u001b[0m\u001b[0m\n\u001b[1;32m    539\u001b[0m     \u001b[0;32mdef\u001b[0m \u001b[0mprint_to_buffer\u001b[0m\u001b[0;34m(\u001b[0m\u001b[0mself\u001b[0m\u001b[0;34m)\u001b[0m\u001b[0;34m:\u001b[0m\u001b[0;34m\u001b[0m\u001b[0;34m\u001b[0m\u001b[0m\n",
            "\u001b[0;31mKeyboardInterrupt\u001b[0m: "
          ]
        }
      ]
    },
    {
      "cell_type": "markdown",
      "metadata": {
        "id": "Lky_nFyObdM4"
      },
      "source": [
        "# LQR for the Reaction Wheel Pendulum\n",
        "\n",
        "I used code from the LQR cart-pole example in acrobot.py to do a first-pass implementation for the reaction wheel pendulum about the upright state."
      ]
    },
    {
      "cell_type": "code",
      "metadata": {
        "colab": {
          "base_uri": "https://localhost:8080/",
          "height": 384
        },
        "id": "GIXwllnBTRwd",
        "outputId": "bf3dc138-e4d0-4ec7-ae02-91b257de973f"
      },
      "source": [
        "def rxnwheel_balancing_example():\n",
        "    def UprightState():\n",
        "        state = (np.pi, 0, 0, 0)\n",
        "        return state\n",
        "\n",
        "\n",
        "    def BalancingLQR(plant):\n",
        "        # Design an LQR controller for stabilizing the CartPole around the upright.\n",
        "        # Returns a (static) AffineSystem that implements the controller (in\n",
        "        # the original CartPole coordinates).\n",
        "\n",
        "        context = plant.CreateDefaultContext()\n",
        "        plant.get_actuation_input_port().FixValue(context, [0])\n",
        "\n",
        "        context.get_mutable_continuous_state_vector().SetFromVector(UprightState())\n",
        "\n",
        "        Q = np.diag((1, 1., 1., 1.))\n",
        "        R = [10]\n",
        "\n",
        "        # MultibodyPlant has many (optional) input ports, so we must pass the\n",
        "        # input_port_index to LQR.\n",
        "        lqr = LinearQuadraticRegulator(\n",
        "            plant,\n",
        "            context,\n",
        "            Q,\n",
        "            R,\n",
        "            input_port_index=plant.get_actuation_input_port().get_index())\n",
        "        return lqr\n",
        "\n",
        "\n",
        "    builder = pydrake.systems.framework.DiagramBuilder()\n",
        "    plant, scene_graph = AddMultibodyPlantSceneGraph(builder, time_step=0.0)\n",
        "    Parser(plant).AddModelFromString(rxpend_urdf, \"urdf\")\n",
        "    plant.Finalize()\n",
        "\n",
        "    controller = builder.AddSystem(BalancingLQR(plant))\n",
        "\n",
        "    saturation = builder.AddSystem(Saturation(min_value=[-u_max], max_value=[u_max]))\n",
        "    builder.Connect(saturation.get_output_port(0), plant.get_actuation_input_port())\n",
        "    builder.Connect(plant.get_state_output_port(), controller.get_input_port(0))\n",
        "    builder.Connect(controller.get_output_port(0), saturation.get_input_port(0))\n",
        "\n",
        "    # builder.Connect(plant.get_state_output_port(), controller.get_input_port(0))\n",
        "    # builder.Connect(controller.get_output_port(0),\n",
        "    #                 plant.get_actuation_input_port())\n",
        "\n",
        "    # Setup visualization\n",
        "    visualizer = pydrake.systems.meshcat_visualizer.ConnectMeshcatVisualizer(\n",
        "        builder, \n",
        "        scene_graph=scene_graph, \n",
        "        zmq_url=zmq_url_planar)\n",
        "    visualizer.vis.delete()\n",
        "    visualizer.set_planar_viewpoint(xmin=-2.5, xmax=2.5, ymin=-1.0, ymax=2.5)\n",
        "\n",
        "    diagram = builder.Build()\n",
        "\n",
        "    # Set up a simulator to run this diagram\n",
        "    simulator = Simulator(diagram)\n",
        "    simulator.set_target_realtime_rate(1.0)\n",
        "    context = simulator.get_mutable_context()\n",
        "\n",
        "    # Simulate\n",
        "    duration = 15.0 if running_as_notebook else 0.1 # sets a shorter duration during testing\n",
        "    for i in range(5):\n",
        "        context.SetTime(0.)\n",
        "        # context.SetContinuousState((np.pi,0,0,0))\n",
        "        context.SetContinuousState(UprightState() + 0.1 * np.random.randn(4,))\n",
        "        # context.SetContinuousState(np.random.randn(4,))\n",
        "        simulator.Initialize()\n",
        "        simulator.AdvanceTo(duration)\n",
        "\n",
        "rxnwheel_balancing_example()"
      ],
      "execution_count": null,
      "outputs": [
        {
          "output_type": "stream",
          "text": [
            "Connecting to meshcat-server at zmq_url=tcp://127.0.0.1:6003...\n",
            "You can open the visualizer by visiting the following URL:\n",
            "http://583e975035bc.ngrok.io/static/\n",
            "Connected to meshcat-server.\n"
          ],
          "name": "stdout"
        },
        {
          "output_type": "error",
          "ename": "KeyboardInterrupt",
          "evalue": "ignored",
          "traceback": [
            "\u001b[0;31m---------------------------------------------------------------------------\u001b[0m",
            "\u001b[0;31mKeyboardInterrupt\u001b[0m                         Traceback (most recent call last)",
            "\u001b[0;32m<ipython-input-13-d67e89a4a229>\u001b[0m in \u001b[0;36m<module>\u001b[0;34m()\u001b[0m\n\u001b[1;32m     70\u001b[0m         \u001b[0msimulator\u001b[0m\u001b[0;34m.\u001b[0m\u001b[0mAdvanceTo\u001b[0m\u001b[0;34m(\u001b[0m\u001b[0mduration\u001b[0m\u001b[0;34m)\u001b[0m\u001b[0;34m\u001b[0m\u001b[0;34m\u001b[0m\u001b[0m\n\u001b[1;32m     71\u001b[0m \u001b[0;34m\u001b[0m\u001b[0m\n\u001b[0;32m---> 72\u001b[0;31m \u001b[0mrxnwheel_balancing_example\u001b[0m\u001b[0;34m(\u001b[0m\u001b[0;34m)\u001b[0m\u001b[0;34m\u001b[0m\u001b[0;34m\u001b[0m\u001b[0m\n\u001b[0m",
            "\u001b[0;32m<ipython-input-13-d67e89a4a229>\u001b[0m in \u001b[0;36mrxnwheel_balancing_example\u001b[0;34m()\u001b[0m\n\u001b[1;32m     68\u001b[0m         \u001b[0;31m# context.SetContinuousState(np.random.randn(4,))\u001b[0m\u001b[0;34m\u001b[0m\u001b[0;34m\u001b[0m\u001b[0;34m\u001b[0m\u001b[0m\n\u001b[1;32m     69\u001b[0m         \u001b[0msimulator\u001b[0m\u001b[0;34m.\u001b[0m\u001b[0mInitialize\u001b[0m\u001b[0;34m(\u001b[0m\u001b[0;34m)\u001b[0m\u001b[0;34m\u001b[0m\u001b[0;34m\u001b[0m\u001b[0m\n\u001b[0;32m---> 70\u001b[0;31m         \u001b[0msimulator\u001b[0m\u001b[0;34m.\u001b[0m\u001b[0mAdvanceTo\u001b[0m\u001b[0;34m(\u001b[0m\u001b[0mduration\u001b[0m\u001b[0;34m)\u001b[0m\u001b[0;34m\u001b[0m\u001b[0;34m\u001b[0m\u001b[0m\n\u001b[0m\u001b[1;32m     71\u001b[0m \u001b[0;34m\u001b[0m\u001b[0m\n\u001b[1;32m     72\u001b[0m \u001b[0mrxnwheel_balancing_example\u001b[0m\u001b[0;34m(\u001b[0m\u001b[0;34m)\u001b[0m\u001b[0;34m\u001b[0m\u001b[0;34m\u001b[0m\u001b[0m\n",
            "\u001b[0;31mKeyboardInterrupt\u001b[0m: "
          ]
        }
      ]
    },
    {
      "cell_type": "markdown",
      "metadata": {
        "id": "bKTWbsxLzRRz"
      },
      "source": [
        "# Hand-derived pass energy-shaping controller\n",
        "\n",
        "After deriving an energy shaping swing-up controller on paper, we can implement it to see its performance. This code is mostly borrowed from the simple pendulum energy shaping example, but with the controller modified. In addition to my hand-derived controller, I also tried plugging in Spong's controller to see the results. You can find my derivation in the report. "
      ]
    },
    {
      "cell_type": "code",
      "metadata": {
        "colab": {
          "base_uri": "https://localhost:8080/",
          "height": 577
        },
        "id": "btUp8JKkfi0O",
        "outputId": "de453225-e870-4567-8ef1-e3269b85d3c6"
      },
      "source": [
        "class EnergyShapingController(VectorSystem):\n",
        "\n",
        "    def __init__(self, pendulum):\n",
        "        VectorSystem.__init__(self, 4, 1)\n",
        "        self.pendulum = pendulum\n",
        "        self.pendulum_context = pendulum.CreateDefaultContext()\n",
        "        self.pendulum_context.SetContinuousState([np.pi, 0, 0, 0])\n",
        "        self.desired_energy = self.pendulum.EvalPotentialEnergy(self.pendulum_context)\n",
        "        # print(self.desired_energy)\n",
        "        # self.SetPendulumParams(PendulumParams())\n",
        "        \n",
        "    # def SetPendulumParams(self, params):\n",
        "    #   self.pendulum_context.get_mutable_numeric_parameter(0).SetFromVector(params.CopyToVector())\n",
        "    #   self.pendulum_context.SetContinuousState([0, 0, 0, 0])\n",
        "    #   self.desired_energy = self.pendulum.EvalPotentialEnergy(self.pendulum_context)\n",
        "\n",
        "    def DoCalcVectorOutput(self, context, pendulum_state, unused, output):\n",
        "      self.pendulum_context.SetContinuousState(pendulum_state)\n",
        "      params = self.pendulum_context.get_numeric_parameter(0)\n",
        "      theta1 = pendulum_state[0]\n",
        "      theta1_dot = pendulum_state[2]\n",
        "      theta2_dot = pendulum_state[3]\n",
        "      kinetic_energy_minus_2 = 1/2*(I_r + m_r*l_r**2)*theta1_dot**2 + 1/2*(I_L + m_L*l_L**2)*theta1_dot**2 \n",
        "      total_energy = self.pendulum.EvalPotentialEnergy(self.pendulum_context) + self.pendulum.EvalKineticEnergy(self.pendulum_context) \n",
        "      k = 0.1\n",
        "      ke = 2.0 * 50 * 5\n",
        "      kv = 1.0\n",
        "\n",
        "      u = I_r*ke*(total_energy - self.desired_energy)*theta1_dot - kv*theta2_dot # Spong's Controller\n",
        "      # u = -k*(total_energy - self.desired_energy)*theta2_dot + (m_L*l_L + m_r*l_r)*g*np.sin(theta1)/(I_r - I_total)# final swing-up controller derivation!\n",
        "      # u = (-0.0001*(total_energy - self.desired_energy)*theta1_dot**2 - I_total*theta1_dot)/I_total - 0.01*theta2_dot\n",
        "      output[:] = u\n",
        "      # if np.sign(u) == np.sign(theta2_dot):\n",
        "      #   output[:] = u - 0.9*np.sign(theta2_dot)*min(np.abs(u),1.75*abs(theta2_dot))\n",
        "      # print(I_r - I_total)\n",
        "      \n",
        "\n",
        "def PhasePlot(pendulum):\n",
        "    phase_plot = plt.figure()\n",
        "    ax = phase_plot.gca()\n",
        "    theta_lim = [-np.pi, np.pi]\n",
        "    ax.set_xlim(theta_lim)\n",
        "    ax.set_ylim(-10., 10.)\n",
        "    ax.set_xlabel(\"theta1\")\n",
        "    ax.set_ylabel(\"theta1_dot\")\n",
        "    ax.set_title(\"Reaction Wheel Pendulum Phase Plot\")\n",
        "\n",
        "    theta = np.linspace(theta_lim[0], theta_lim[1], 601)  # 4*k + 1\n",
        "    thetadot = np.zeros(theta.shape)\n",
        "    context = pendulum.CreateDefaultContext()\n",
        "    params = context.get_numeric_parameter(0)\n",
        "    context.SetContinuousState([np.pi, 0, 0, 0])\n",
        "    E_upright = pendulum.EvalPotentialEnergy(context)\n",
        "    E = [E_upright, .1 * E_upright, 1.5 * E_upright]\n",
        "    for e in E:\n",
        "        for i in range(theta.size):\n",
        "            v = ((e + (m_r+m_L) * g * l *\n",
        "                  np.cos(theta[i])) / (.5 * I_total))\n",
        "            if (v >= 0):\n",
        "                thetadot[i] = np.sqrt(v)\n",
        "            else:\n",
        "                thetadot[i] = float(\"nan\")\n",
        "        ax.plot(theta, thetadot, color=[.6, .6, .6])\n",
        "        ax.plot(theta, -thetadot, color=[.6, .6, .6])\n",
        "\n",
        "    return ax\n",
        "\n",
        "\n",
        "def UprightState():\n",
        "        state = (np.pi, 0, 0, 0)\n",
        "        return state\n",
        "\n",
        "def InitialState():\n",
        "        state = (0, 0, 0, 0)\n",
        "        return state\n",
        "\n",
        "builder = pydrake.systems.framework.DiagramBuilder()\n",
        "plant, scene_graph = AddMultibodyPlantSceneGraph(builder, time_step=0.0)\n",
        "Parser(plant).AddModelFromString(rxpend_urdf, \"urdf\")\n",
        "plant.Finalize()\n",
        "\n",
        "ax = PhasePlot(plant)\n",
        "\n",
        "controller = builder.AddSystem(EnergyShapingController(plant))\n",
        "\n",
        "saturation = builder.AddSystem(Saturation(min_value=[-u_max], max_value=[u_max]))\n",
        "builder.Connect(saturation.get_output_port(0), plant.get_actuation_input_port())\n",
        "builder.Connect(plant.get_state_output_port(), controller.get_input_port(0))\n",
        "builder.Connect(controller.get_output_port(0), saturation.get_input_port(0))\n",
        "\n",
        "# No Saturation \n",
        "# builder.Connect(controller.get_output_port(), plant.get_actuation_input_port())\n",
        "# builder.Connect(plant.get_state_output_port(), controller.get_input_port(0))\n",
        "\n",
        "# Setup visualization\n",
        "visualizer = pydrake.systems.meshcat_visualizer.ConnectMeshcatVisualizer(\n",
        "    builder, \n",
        "    scene_graph=scene_graph, \n",
        "    zmq_url=zmq_url_planar)\n",
        "visualizer.vis.delete()\n",
        "visualizer.set_planar_viewpoint(xmin=-2.5, xmax=2.5, ymin=-1.0, ymax=2.5)\n",
        "\n",
        "logger = builder.AddSystem(SignalLogger(4))\n",
        "builder.Connect(plant.get_state_output_port(), logger.get_input_port(0))\n",
        "\n",
        "diagram = builder.Build()\n",
        "\n",
        "# Set up a simulator to run this diagram\n",
        "simulator = Simulator(diagram)\n",
        "simulator.set_target_realtime_rate(1.0)\n",
        "context = simulator.get_mutable_context()\n",
        "\n",
        "# Simulate\n",
        "duration = 30 if running_as_notebook else 0.1 # sets a shorter duration during testing\n",
        "for i in range(1):\n",
        "    context.SetTime(0.)\n",
        "    context.SetContinuousState((0.0, 0, 0, 0))\n",
        "    simulator.Initialize()\n",
        "    logger.reset()\n",
        "    simulator.AdvanceTo(duration)\n",
        "    # print(logger.data())\n",
        "    ax.plot(logger.data()[0, :], logger.data()[2, :])"
      ],
      "execution_count": 7,
      "outputs": [
        {
          "output_type": "stream",
          "text": [
            "Connecting to meshcat-server at zmq_url=tcp://127.0.0.1:6000...\n",
            "You can open the visualizer by visiting the following URL:\n",
            "http://aa83b81f08f4.ngrok.io/static/\n",
            "Connected to meshcat-server.\n"
          ],
          "name": "stdout"
        },
        {
          "output_type": "error",
          "ename": "KeyboardInterrupt",
          "evalue": "ignored",
          "traceback": [
            "\u001b[0;31m---------------------------------------------------------------------------\u001b[0m",
            "\u001b[0;31mKeyboardInterrupt\u001b[0m                         Traceback (most recent call last)",
            "\u001b[0;32m<ipython-input-7-2fde1aafd295>\u001b[0m in \u001b[0;36m<module>\u001b[0;34m()\u001b[0m\n\u001b[1;32m    118\u001b[0m     \u001b[0msimulator\u001b[0m\u001b[0;34m.\u001b[0m\u001b[0mInitialize\u001b[0m\u001b[0;34m(\u001b[0m\u001b[0;34m)\u001b[0m\u001b[0;34m\u001b[0m\u001b[0;34m\u001b[0m\u001b[0m\n\u001b[1;32m    119\u001b[0m     \u001b[0mlogger\u001b[0m\u001b[0;34m.\u001b[0m\u001b[0mreset\u001b[0m\u001b[0;34m(\u001b[0m\u001b[0;34m)\u001b[0m\u001b[0;34m\u001b[0m\u001b[0;34m\u001b[0m\u001b[0m\n\u001b[0;32m--> 120\u001b[0;31m     \u001b[0msimulator\u001b[0m\u001b[0;34m.\u001b[0m\u001b[0mAdvanceTo\u001b[0m\u001b[0;34m(\u001b[0m\u001b[0mduration\u001b[0m\u001b[0;34m)\u001b[0m\u001b[0;34m\u001b[0m\u001b[0;34m\u001b[0m\u001b[0m\n\u001b[0m\u001b[1;32m    121\u001b[0m     \u001b[0;31m# print(logger.data())\u001b[0m\u001b[0;34m\u001b[0m\u001b[0;34m\u001b[0m\u001b[0;34m\u001b[0m\u001b[0m\n\u001b[1;32m    122\u001b[0m     \u001b[0max\u001b[0m\u001b[0;34m.\u001b[0m\u001b[0mplot\u001b[0m\u001b[0;34m(\u001b[0m\u001b[0mlogger\u001b[0m\u001b[0;34m.\u001b[0m\u001b[0mdata\u001b[0m\u001b[0;34m(\u001b[0m\u001b[0;34m)\u001b[0m\u001b[0;34m[\u001b[0m\u001b[0;36m0\u001b[0m\u001b[0;34m,\u001b[0m \u001b[0;34m:\u001b[0m\u001b[0;34m]\u001b[0m\u001b[0;34m,\u001b[0m \u001b[0mlogger\u001b[0m\u001b[0;34m.\u001b[0m\u001b[0mdata\u001b[0m\u001b[0;34m(\u001b[0m\u001b[0;34m)\u001b[0m\u001b[0;34m[\u001b[0m\u001b[0;36m2\u001b[0m\u001b[0;34m,\u001b[0m \u001b[0;34m:\u001b[0m\u001b[0;34m]\u001b[0m\u001b[0;34m)\u001b[0m\u001b[0;34m\u001b[0m\u001b[0;34m\u001b[0m\u001b[0m\n",
            "\u001b[0;31mKeyboardInterrupt\u001b[0m: "
          ]
        },
        {
          "output_type": "display_data",
          "data": {
            "image/png": "[encoded data removed]",
            "text/plain": [
              "<Figure size 432x288 with 1 Axes>"
            ]
          },
          "metadata": {
            "tags": [],
            "needs_background": "light"
          }
        }
      ]
    },
    {
      "cell_type": "markdown",
      "metadata": {
        "id": "IrCRDA55xQhU"
      },
      "source": [
        "# Swing-up + LQR\n",
        "We can now combine the swing-up controller with the LQR controller to get a full balancing algorithm. For the ROA, it is currently an educated estimate. We will soon use SOS optimization to compute it. Most of the following code was borrowed from the 'Swing-up and balance' script in the simple pendulum example."
      ]
    },
    {
      "cell_type": "code",
      "metadata": {
        "colab": {
          "base_uri": "https://localhost:8080/",
          "height": 431
        },
        "id": "QWyql4fexrBK",
        "outputId": "deac51c8-84b3-403c-91e3-adee6cf08772"
      },
      "source": [
        "from pydrake.all import Linearize, LinearQuadraticRegulator\n",
        "from copy import copy\n",
        "\n",
        "class SwingUpAndBalanceController(VectorSystem):\n",
        "\n",
        "    def __init__(self, pendulum, K, S):\n",
        "        VectorSystem.__init__(self, 4, 1)\n",
        "        self.energy_shaping = EnergyShapingController(pendulum)\n",
        "        self.energy_shaping_context = self.energy_shaping.CreateDefaultContext()\n",
        "        self.K = K\n",
        "        self.S = S\n",
        "\n",
        "    def DoCalcVectorOutput(self, context, pendulum_state, unused, output):\n",
        "        xbar = copy(pendulum_state)\n",
        "        xbar[0] = wrap_to(xbar[0], 0, 2. * np.pi) - np.pi\n",
        "        xbar[1] = wrap_to(xbar[1], 0, 2. * np.pi) - np.pi\n",
        "\n",
        "        # If x'Sx <= 20, then use the LQR controller\n",
        "        if (xbar.dot(self.S.dot(xbar)) <= 20):\n",
        "            output[:] = -self.K.dot(xbar)\n",
        "        else:\n",
        "            self.get_input_port(0).FixValue(self.energy_shaping_context, pendulum_state)\n",
        "            output[:] = self.energy_shaping.get_output_port(0).Eval(self.energy_shaping_context)\n",
        "\n",
        "def UprightState():\n",
        "    state = (np.pi, 0, 0, 0)\n",
        "    return state\n",
        "\n",
        "def InitialState():\n",
        "        state = (0, 0, 0, 0)\n",
        "        return state\n",
        "\n",
        "builder = pydrake.systems.framework.DiagramBuilder()\n",
        "plant, scene_graph = AddMultibodyPlantSceneGraph(builder, time_step=0.0)\n",
        "Parser(plant).AddModelFromString(rxpend_urdf, \"urdf\")\n",
        "plant.Finalize()\n",
        "builder.ExportInput(plant.get_actuation_input_port(), \"command\")\n",
        "\n",
        "# Linearize plant\n",
        "diagram = builder.Build()\n",
        "context = diagram.CreateDefaultContext()\n",
        "diagram.get_input_port().FixValue(context, [0])\n",
        "context.SetContinuousState([np.pi, 0, 0, 0])\n",
        "\n",
        "Q = np.diag((1, 1, 1., 1.))\n",
        "R = [1]\n",
        "\n",
        "linearized_pendulum = Linearize(diagram, context)\n",
        "(K, S) = LinearQuadraticRegulator(linearized_pendulum.A(),\n",
        "                                      linearized_pendulum.B(), Q, R)\n",
        "print(K,S)\n",
        "\n",
        "# Rebuild system\n",
        "\n",
        "builder = pydrake.systems.framework.DiagramBuilder()\n",
        "plant, scene_graph = AddMultibodyPlantSceneGraph(builder, time_step=0.0)\n",
        "Parser(plant).AddModelFromString(rxpend_urdf, \"urdf\")\n",
        "plant.Finalize()\n",
        "\n",
        "def PhasePlot(pendulum):\n",
        "    phase_plot = plt.figure()\n",
        "    ax = phase_plot.gca()\n",
        "    theta_lim = [-np.pi, np.pi + np.pi/4]\n",
        "    ax.set_xlim(theta_lim)\n",
        "    ax.set_ylim(-10., 10.)\n",
        "    ax.set_xlabel(\"theta1\")\n",
        "    ax.set_ylabel(\"theta1_dot\")\n",
        "    ax.set_title(\"Reaction Wheel Pendulum Phase Plot\")\n",
        "\n",
        "    theta = np.linspace(theta_lim[0], theta_lim[1], 601)  # 4*k + 1\n",
        "    thetadot = np.zeros(theta.shape)\n",
        "    context = pendulum.CreateDefaultContext()\n",
        "    params = context.get_numeric_parameter(0)\n",
        "    context.SetContinuousState([np.pi, 0, 0, 0])\n",
        "    E_upright = pendulum.EvalPotentialEnergy(context)\n",
        "    E = [E_upright, .1 * E_upright, 1.5 * E_upright]\n",
        "    for e in E:\n",
        "        for i in range(theta.size):\n",
        "            v = ((e + (m_r+m_L) * g * l *\n",
        "                  np.cos(theta[i])) / (.5 * I_total))\n",
        "            if (v >= 0):\n",
        "                thetadot[i] = np.sqrt(v)\n",
        "            else:\n",
        "                thetadot[i] = float(\"nan\")\n",
        "        ax.plot(theta, thetadot, color=[.6, .6, .6])\n",
        "        ax.plot(theta, -thetadot, color=[.6, .6, .6])\n",
        "\n",
        "    return ax\n",
        "ax = PhasePlot(plant)\n",
        "\n",
        "swingAndLQR = SwingUpAndBalanceController(plant, K, S)\n",
        "\n",
        "controller = builder.AddSystem(swingAndLQR)\n",
        "\n",
        "saturation = builder.AddSystem(Saturation(min_value=[-u_max], max_value=[u_max]))\n",
        "builder.Connect(saturation.get_output_port(0), plant.get_actuation_input_port())\n",
        "builder.Connect(plant.get_state_output_port(), controller.get_input_port(0))\n",
        "builder.Connect(controller.get_output_port(0), saturation.get_input_port(0))\n",
        "\n",
        "# No Saturation \n",
        "# builder.Connect(controller.get_output_port(0), plant.get_actuation_input_port())\n",
        "# builder.Connect(plant.get_state_output_port(), controller.get_input_port(0))\n",
        "\n",
        "\n",
        "logger = builder.AddSystem(SignalLogger(4))\n",
        "builder.Connect(plant.get_state_output_port(), logger.get_input_port(0))\n",
        "\n",
        "# Setup visualization\n",
        "visualizer = pydrake.systems.meshcat_visualizer.ConnectMeshcatVisualizer(\n",
        "    builder, \n",
        "    scene_graph=scene_graph, \n",
        "    zmq_url=zmq_url_planar)\n",
        "visualizer.vis.delete()\n",
        "visualizer.set_planar_viewpoint(xmin=-2.5, xmax=2.5, ymin=-1.0, ymax=2.5)\n",
        "\n",
        "diagram = builder.Build()\n",
        "simulator = Simulator(diagram)\n",
        "simulator.set_target_realtime_rate(1.0)\n",
        "context = simulator.get_mutable_context()\n",
        "\n",
        "for i in range(1):\n",
        "    context.SetTime(0.)\n",
        "    simulator.Initialize()\n",
        "    logger.reset()\n",
        "    context.SetContinuousState((0.05, 0, 0, 0))\n",
        "    simulator.AdvanceTo(30)\n",
        "    ax.plot(logger.data()[0, :], logger.data()[2, :])\n",
        "    \n",
        "# ax.set_xlim(np.pi - 3., np.pi + 3.)\n",
        "# ax.set_ylim(-5., 5.)\n"
      ],
      "execution_count": null,
      "outputs": [
        {
          "output_type": "stream",
          "text": [
            "[[-139.79436392   -1.          -47.28504744   -1.85742779]] [[3.27660501e+03 4.72850474e+01 1.11743786e+03 7.16408427e+01]\n",
            " [4.72850474e+01 1.85742779e+00 1.61877185e+01 1.22501900e+00]\n",
            " [1.11743786e+03 1.61877185e+01 3.81329417e+02 2.45244189e+01]\n",
            " [7.16408427e+01 1.22501900e+00 2.45244189e+01 1.79337570e+00]]\n",
            "Connecting to meshcat-server at zmq_url=tcp://127.0.0.1:6003...\n",
            "You can open the visualizer by visiting the following URL:\n",
            "http://583e975035bc.ngrok.io/static/\n",
            "Connected to meshcat-server.\n"
          ],
          "name": "stdout"
        },
        {
          "output_type": "display_data",
          "data": {
            "image/png": "[encoded data removed]",
            "text/plain": [
              "<Figure size 432x288 with 1 Axes>"
            ]
          },
          "metadata": {
            "tags": [],
            "needs_background": "light"
          }
        }
      ]
    },
    {
      "cell_type": "markdown",
      "metadata": {
        "id": "GZwwjXgxP7GK"
      },
      "source": [
        "#Computing a ROA via Linearization, Lyapunov Equation and S-procedure\n",
        "Here we attempt to compute a Lyapunov function using the Lyapunov Equation. In this formulation, we first linearize the reaction wheel dynamics directly from the MultiBodyPlant then write out the closed-loop dynamics in the form:\n",
        "\n",
        "$$\\dot{\\mathbf{x}} = (A-BK){\\mathbf{x}}$$\n",
        "\n",
        "where A and B come from the linearization and K is the LQR gain matrix. Once we have the closed-loop dynamics we can solve the Lyapunov Equation to find P, which defines the candidate Lyapunov function as follows:\n",
        "\n",
        "$$V(\\mathbf{x}) = \\mathbf{x}^T P \\mathbf{x}$$\n"
      ]
    },
    {
      "cell_type": "code",
      "metadata": {
        "colab": {
          "base_uri": "https://localhost:8080/"
        },
        "id": "_GUcrt0_rTtc",
        "outputId": "c8d3dda7-a66f-4fa4-d78d-5d105a579747"
      },
      "source": [
        "from pydrake.all import Linearize, LinearQuadraticRegulator\n",
        "\n",
        "builder = pydrake.systems.framework.DiagramBuilder()\n",
        "plant, scene_graph = AddMultibodyPlantSceneGraph(builder, time_step=0.0)\n",
        "Parser(plant).AddModelFromString(rxpend_urdf, \"urdf\")\n",
        "plant.Finalize()\n",
        "builder.ExportInput(plant.get_actuation_input_port(), \"command\")\n",
        "\n",
        "# Linearize plant about the upright state\n",
        "diagram = builder.Build()\n",
        "context = diagram.CreateDefaultContext()\n",
        "diagram.get_input_port().FixValue(context, [0])\n",
        "context.SetContinuousState([np.pi, 0, 0, 0])\n",
        "\n",
        "Q = np.diag((1, 1, 1., 1.))\n",
        "R = [1]\n",
        "\n",
        "linearized_pendulum = Linearize(diagram, context)\n",
        "A = linearized_pendulum.A()\n",
        "B = linearized_pendulum.B()\n",
        "# A = np.array([[0,0,1,0], [0,0,0,1], [m*g*l/I_total * np.cos(np.pi), 0, 0, 0], [0, 0, 0, 0]])\n",
        "# B = np.array([[0], [0], [-1/I_total], [1/I_total]])\n",
        "\n",
        "# A_test = np.array([[0,0,1], [0,0,0], [m*g*l/I_total * np.cos(np.pi), 0, 0]])\n",
        "\n",
        "print(\"A = \", A)\n",
        "print(\"B = \", B)\n",
        "(K, S) = LinearQuadraticRegulator(A, B, Q, R)\n",
        "print(\"K = \", K)\n",
        "print(\"S = \", S)\n",
        "\n",
        "# Linearize again, but now with close-loop?"
      ],
      "execution_count": null,
      "outputs": [
        {
          "output_type": "stream",
          "text": [
            "A =  [[ 0.          0.          1.          0.        ]\n",
            " [ 0.          0.          0.          1.        ]\n",
            " [ 9.34285714  0.          0.          0.        ]\n",
            " [-9.34285714  0.          0.          0.        ]]\n",
            "B =  [[ 0.        ]\n",
            " [ 0.        ]\n",
            " [-0.47619048]\n",
            " [ 5.47619048]]\n",
            "K =  [[-139.79436392   -1.          -47.28504744   -1.85742779]]\n",
            "S =  [[3.27660501e+03 4.72850474e+01 1.11743786e+03 7.16408427e+01]\n",
            " [4.72850474e+01 1.85742779e+00 1.61877185e+01 1.22501900e+00]\n",
            " [1.11743786e+03 1.61877185e+01 3.81329417e+02 2.45244189e+01]\n",
            " [7.16408427e+01 1.22501900e+00 2.45244189e+01 1.79337570e+00]]\n"
          ],
          "name": "stdout"
        }
      ]
    },
    {
      "cell_type": "code",
      "metadata": {
        "colab": {
          "base_uri": "https://localhost:8080/"
        },
        "id": "Za5Mx3L77-TV",
        "outputId": "56db15a6-b448-41aa-c134-ef0590dd0716"
      },
      "source": [
        "# Define state variables for symbolic expression\n",
        "x0 = Variable('x0')\n",
        "x1 = Variable('x1')\n",
        "x2 = Variable('x2')\n",
        "x3 = Variable('x3')\n",
        "state = np.array([[x0], [x1], [x2], [x3]])\n",
        "\n",
        "# Closed-loop system matrix\n",
        "A_cl = A-B.dot(K)\n",
        "print(\"A_cl = \", A_cl)\n",
        "print()\n",
        "\n",
        "# rhs of the Lyapunov equation (standard choice)\n",
        "Q = np.eye(4)\n",
        "# Q = np.array([[1,1,1,1], [1,1,1,1], [1,1,1,1], [1,1,1,1]])\n",
        "\n",
        "# positive definite matrix of the Lyapunov function\n",
        "P = RealContinuousLyapunovEquation(A_cl, Q)\n",
        "\n",
        "print(\"Results from Lyapunov Equation: \")\n",
        "print(\"P = \", P)\n",
        "# print(\"V_P = \", state.T.dot(P).dot(state))\n",
        "print()\n",
        "\n",
        "print(\"Results from LQR Cost-to-go: \")\n",
        "print(\"S = \", S)\n",
        "# print(\"V_S = \", state.T.dot(S).dot(state))\n",
        "print()\n",
        "\n",
        "# print(\"RHS of Linearized Dynamics:\")\n",
        "# A = np.array([[0,0,1,0], [0,0,0,1], [-19.62, 0, 0, 0], [0, 0, 0, 0]])\n",
        "# print(\"x_dot = \", A_cl.dot(state))"
      ],
      "execution_count": null,
      "outputs": [
        {
          "output_type": "stream",
          "text": [
            "A_cl =  [[ 0.00000000e+00  0.00000000e+00  1.00000000e+00  0.00000000e+00]\n",
            " [ 0.00000000e+00  0.00000000e+00  0.00000000e+00  1.00000000e+00]\n",
            " [-5.72258876e+01 -4.76190476e-01 -2.25166893e+01 -8.84489424e-01]\n",
            " [ 7.56197707e+02  5.47619048e+00  2.58941926e+02  1.01716284e+01]]\n",
            "\n",
            "Results from Lyapunov Equation: \n",
            "P =  [[2.14457222e+03 3.91654072e+01 7.33500281e+02 5.55075799e+01]\n",
            " [3.91654072e+01 1.77636135e+00 1.34061052e+01 1.07444393e+00]\n",
            " [7.33500281e+02 1.34061052e+01 2.51067419e+02 1.89973360e+01]\n",
            " [5.55075799e+01 1.07444393e+00 1.89973360e+01 1.49715446e+00]]\n",
            "\n",
            "Results from LQR Cost-to-go: \n",
            "S =  [[3.27660501e+03 4.72850474e+01 1.11743786e+03 7.16408427e+01]\n",
            " [4.72850474e+01 1.85742779e+00 1.61877185e+01 1.22501900e+00]\n",
            " [1.11743786e+03 1.61877185e+01 3.81329417e+02 2.45244189e+01]\n",
            " [7.16408427e+01 1.22501900e+00 2.45244189e+01 1.79337570e+00]]\n",
            "\n"
          ],
          "name": "stdout"
        }
      ]
    },
    {
      "cell_type": "markdown",
      "metadata": {
        "id": "1fOmsaMcuqj3"
      },
      "source": [
        "# Using S-procedure to estimate the ROA\n",
        "\n",
        "Here we first package our dynamics parameters into the manipulator equation matrices for later convenience. We will use a Taylor sine approximation in order to implement the closed-loop dynamics. We then formulate the optimization problem using the Lyapunov conditions."
      ]
    },
    {
      "cell_type": "code",
      "metadata": {
        "colab": {
          "base_uri": "https://localhost:8080/"
        },
        "id": "zo89mLdCunTD",
        "outputId": "0feaad75-0930-46f6-c5d3-8da5e2c95f06"
      },
      "source": [
        "# intializion of the optimization problem\n",
        "prog = MathematicalProgram()\n",
        "\n",
        "# Reduced state of the system as a set of indeterminates\n",
        "# for the SOS verification\n",
        "# x[0] = angle of the pendulum relative to np.pi (the fixed point)\n",
        "# x[1] = velocity of the pendulum\n",
        "# x[2] = velocity of the wheel\n",
        "nx = 3\n",
        "x = prog.NewIndeterminates(nx, 'x')\n",
        "x_eq = np.array([np.pi, 0., 0.])\n",
        "\n",
        "def sin_taylor_around_pi(t, order):\n",
        "    '''\n",
        "    Approximates the sine function around pi using Taylor series.\n",
        "    '''\n",
        "    if order < 1:\n",
        "        raise ValueError('The order of the Taylor expansion must be at least 1.') \n",
        "    a = (t - np.pi)\n",
        "    s = - a\n",
        "    for i in range(1, int((order+1)/2)):\n",
        "        a *= -1 * (t-np.pi)**2 / ((2*i) * (2*i+1))\n",
        "        s -= a\n",
        "    return s\n",
        "\n",
        "M = np.array([\n",
        "    [m_L*l_L**2 + m_r*l_r**2 + I_L + I_r, I_r],\n",
        "    [I_r, I_r]\n",
        "])\n",
        "C = np.array([\n",
        "    [0, 0],\n",
        "    [0, 0]\n",
        "])\n",
        "B = np.array([\n",
        "    [0.],\n",
        "    [1.]\n",
        "])\n",
        "\n",
        "order_sine = 20\n",
        "tauG = np.array([\n",
        "    -(m_L*l_L + m_r*l_r)*g*sin_taylor_around_pi(x[0]+x_eq[0], order_sine),\n",
        "    0.\n",
        "])\n",
        "\n",
        "# lqr solution\n",
        "# print(K.shape)\n",
        "# print(S.shape)\n",
        "K_reduced_sos = np.reshape(np.delete(K, (1), axis=1),(1,3))\n",
        "# print(K_reduced_sos)\n",
        "S_reduced_sos = np.delete(np.delete(S, (1), axis=0), (1), axis=1)\n",
        "# print(S_reduced_sos)\n",
        "\n",
        "# Lyapunov equation solution\n",
        "P_reduced_sos = np.delete(np.delete(P, (1), axis=0), (1), axis=1)\n",
        "\n",
        "# closed-loop dynamics in the form x_dot = f(x)\n",
        "xdot = np.concatenate([\n",
        "    [x[1]],\n",
        "    np.linalg.inv(M).dot(-C.dot(x[1:3]) + tauG - B.dot(K_reduced_sos).dot(x)),\n",
        "])\n",
        "\n",
        "# print(xdot)\n",
        "\n",
        "# LQR cost-to-go as Lyapunov function\n",
        "V = x.dot(S_reduced_sos).dot(x)\n",
        "\n",
        "# time derivative of the Lyapunov function\n",
        "Vdot = 2*x.dot(S_reduced_sos).dot(xdot)\n",
        "\n",
        "# for S-procedure\n",
        "lambda_degree = 4\n",
        "l = prog.NewSosPolynomial(Variables(x), lambda_degree)[0].ToExpression()\n",
        "\n",
        "rho = prog.NewContinuousVariables(1, 'rho')[0]\n",
        "\n",
        "prog.AddSosConstraint(x.dot(x)*(V - rho) - l*Vdot)\n",
        "\n",
        "prog.AddLinearCost(-rho)\n",
        "\n",
        "if len(prog.GetAllConstraints()) != 0:\n",
        "\n",
        "    # solve SOS program\n",
        "    result = Solve(prog)\n",
        "\n",
        "    # get maximum rho\n",
        "    assert result.is_success()\n",
        "    rho_method = result.GetSolution(rho)\n",
        "\n",
        "    # print maximum rho\n",
        "    print(f'Method verified rho = {rho_method}.')\n",
        "\n",
        "\n"
      ],
      "execution_count": null,
      "outputs": [
        {
          "output_type": "stream",
          "text": [
            "Method verified rho = -0.00038691695406718307.\n"
          ],
          "name": "stdout"
        }
      ]
    },
    {
      "cell_type": "markdown",
      "metadata": {
        "id": "WYyVv6UzTJKz"
      },
      "source": [
        "#Global Stability of the Free Reaction Wheel Pendulum\n",
        "Using the change of coordinates to sine, cosine, and theta_dot we can 'search' for a candidate global stability Lyapunov function for the free pendulum. The process is very similar to the simple pendulum example."
      ]
    },
    {
      "cell_type": "code",
      "metadata": {
        "id": "4yG1ki9W1fGf",
        "colab": {
          "base_uri": "https://localhost:8080/"
        },
        "outputId": "9d1f9d5b-9f90-496e-d013-640828278170"
      },
      "source": [
        "prog = MathematicalProgram()\n",
        "\n",
        "# Declare the \"indeterminates\", x.  These are the variables which define the\n",
        "# polynomials, but are NOT decision variables in the optimization.  We will\n",
        "# add constraints below that must hold FOR ALL x.\n",
        "s1 = prog.NewIndeterminates(1, \"s\")[0]\n",
        "c1 = prog.NewIndeterminates(1, \"c\")[0]\n",
        "theta1_dot = prog.NewIndeterminates(1, \"theta1dot\")[0]\n",
        "# theta2_dot = prog.NewIndeterminates(1, \"theta2dot\")[0]\n",
        "\n",
        "# c = prog.NewIndeterminates(1, \"c\")[0]\n",
        "# thetadot = prog.NewIndeterminates(1, \"thetadot\")[0]\n",
        "# TODO(russt): bind the sugar methods so I can write\n",
        "#  x = prog.NewIndeterminates([\"s\", \"c\", \"thetadot\"])\n",
        "# x = np.array([s1, c1, theta1_dot, theta2_dot])\n",
        "x = np.array([s1, c1, theta1_dot])\n",
        "\n",
        "# Write out the dynamics in terms of sin(theta), cos(theta), and thetadot\n",
        "f = [c1*theta1_dot, -s1*theta1_dot, -m_bar*g/(I_total-I_r)*s1 - b_L*theta1_dot]\n",
        "x0 = np.array([0, 1, 0])\n",
        "\n",
        "deg_V = 2\n",
        "V = prog.NewFreePolynomial(Variables(x), deg_V).ToExpression()\n",
        "\n",
        "eps = 1e-4\n",
        "constraint1 = prog.AddSosConstraint(V - eps * (x - x0).dot(x - x0))\n",
        "\n",
        "Vdot = V.Jacobian(x).dot(f)\n",
        "\n",
        "deg_L = 2\n",
        "L = prog.NewFreePolynomial(Variables(x), deg_L).ToExpression()\n",
        "\n",
        "constraint2 = prog.AddSosConstraint(-Vdot - L * (s1**2 + c1**2 - 1) - eps *\n",
        "                                    (x - x0).dot(x - x0) * s1**2)\n",
        "\n",
        "# Add V(0) = 0 constraint\n",
        "constraint3 = prog.AddLinearConstraint(\n",
        "    V.Substitute({\n",
        "        s1: 0,\n",
        "        c1: 1,\n",
        "        theta1_dot: 0,\n",
        "    }) == 0)\n",
        "\n",
        "# Add V(theta=pi) = mgl, just to set the scale.\n",
        "constraint4 = prog.AddLinearConstraint(\n",
        "    V.Substitute({\n",
        "        s1: 1,\n",
        "        c1: 0,\n",
        "        theta1_dot: 0,\n",
        "    }) == (m_r + m_L)*g*l)\n",
        "\n",
        "\n",
        "result = Solve(prog)\n",
        "assert result.is_success()\n",
        "\n",
        "print(\"V =\")\n",
        "Vsol = Polynomial(result.GetSolution(V))\n",
        "print(Vsol.RemoveTermsWithSmallCoefficients(1e-6))"
      ],
      "execution_count": null,
      "outputs": [
        {
          "output_type": "stream",
          "text": [
            "V =\n",
            "9.8128358706789847*1 + 0.90015501273345433*theta1dot(0)^2 + -19.625676671303093*c(0) + 1.3876134990135866e-06*c(0) * theta1dot(0) + 9.8128408088327568*c(0)^2 + -6.4905009056031478e-06*s(0) + 0.13520800398905192*s(0) * theta1dot(0) + 2.9630301202323867e-06*s(0) * c(0) + 9.807170629995877*s(0)^2\n"
          ],
          "name": "stdout"
        }
      ]
    }
  ]
}